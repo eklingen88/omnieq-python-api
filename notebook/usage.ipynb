{
 "cells": [
  {
   "cell_type": "markdown",
   "source": [
    "# OmniEQ Python API\n",
    "## Initialize"
   ],
   "metadata": {
    "collapsed": false,
    "pycharm": {
     "name": "#%% md\n"
    }
   }
  },
  {
   "cell_type": "code",
   "execution_count": 1,
   "metadata": {
    "collapsed": true
   },
   "outputs": [],
   "source": [
    "%load_ext autoreload\n",
    "%autoreload 2"
   ]
  },
  {
   "cell_type": "code",
   "execution_count": 2,
   "outputs": [],
   "source": [
    "from omnieq.client import Client as oeq\n",
    "from omnieq.utils.pd_funcs import filter_future, filter_past, days_until\n",
    "import pandas as pd"
   ],
   "metadata": {
    "collapsed": false,
    "pycharm": {
     "name": "#%%\n"
    }
   }
  },
  {
   "cell_type": "code",
   "execution_count": 24,
   "outputs": [],
   "source": [
    "UNDERLYING_SYMBOL = input('Underlying Symbol: ')"
   ],
   "metadata": {
    "collapsed": false,
    "pycharm": {
     "name": "#%%\n"
    }
   }
  },
  {
   "cell_type": "code",
   "execution_count": 25,
   "outputs": [],
   "source": [
    "oeq.set_token(input('OmniEQ Token: '))"
   ],
   "metadata": {
    "collapsed": false,
    "pycharm": {
     "name": "#%%\n"
    }
   }
  },
  {
   "cell_type": "markdown",
   "source": [
    "## Chain Expirations\n",
    "### Get all expirations by underlying symbol"
   ],
   "metadata": {
    "collapsed": false,
    "pycharm": {
     "name": "#%% md\n"
    }
   }
  },
  {
   "cell_type": "code",
   "execution_count": 26,
   "outputs": [
    {
     "data": {
      "text/plain": "       expiry   series\n0  2023-01-20  Monthly\n1  2022-01-21  Monthly\n2  2021-07-16  Monthly\n3  2021-04-16  Monthly\n4  2021-02-26   Weekly",
      "text/html": "<div>\n<style scoped>\n    .dataframe tbody tr th:only-of-type {\n        vertical-align: middle;\n    }\n\n    .dataframe tbody tr th {\n        vertical-align: top;\n    }\n\n    .dataframe thead th {\n        text-align: right;\n    }\n</style>\n<table border=\"1\" class=\"dataframe\">\n  <thead>\n    <tr style=\"text-align: right;\">\n      <th></th>\n      <th>expiry</th>\n      <th>series</th>\n    </tr>\n  </thead>\n  <tbody>\n    <tr>\n      <th>0</th>\n      <td>2023-01-20</td>\n      <td>Monthly</td>\n    </tr>\n    <tr>\n      <th>1</th>\n      <td>2022-01-21</td>\n      <td>Monthly</td>\n    </tr>\n    <tr>\n      <th>2</th>\n      <td>2021-07-16</td>\n      <td>Monthly</td>\n    </tr>\n    <tr>\n      <th>3</th>\n      <td>2021-04-16</td>\n      <td>Monthly</td>\n    </tr>\n    <tr>\n      <th>4</th>\n      <td>2021-02-26</td>\n      <td>Weekly</td>\n    </tr>\n  </tbody>\n</table>\n</div>"
     },
     "execution_count": 26,
     "metadata": {},
     "output_type": "execute_result"
    }
   ],
   "source": [
    "expirations = oeq.chain_expirations(UNDERLYING_SYMBOL)\n",
    "expirations[:5]"
   ],
   "metadata": {
    "collapsed": false,
    "pycharm": {
     "name": "#%%\n"
    }
   }
  },
  {
   "cell_type": "markdown",
   "source": [
    "### Helper functions for past, future, and days\n",
    "#### Past and future filters"
   ],
   "metadata": {
    "collapsed": false,
    "pycharm": {
     "name": "#%% md\n"
    }
   }
  },
  {
   "cell_type": "code",
   "execution_count": 27,
   "outputs": [
    {
     "data": {
      "text/plain": "        expiry   series   state\n0   2023-01-20  Monthly  future\n1   2022-01-21  Monthly  future\n11  2021-01-08   Weekly    past\n12  2020-12-31   Weekly    past",
      "text/html": "<div>\n<style scoped>\n    .dataframe tbody tr th:only-of-type {\n        vertical-align: middle;\n    }\n\n    .dataframe tbody tr th {\n        vertical-align: top;\n    }\n\n    .dataframe thead th {\n        text-align: right;\n    }\n</style>\n<table border=\"1\" class=\"dataframe\">\n  <thead>\n    <tr style=\"text-align: right;\">\n      <th></th>\n      <th>expiry</th>\n      <th>series</th>\n      <th>state</th>\n    </tr>\n  </thead>\n  <tbody>\n    <tr>\n      <th>0</th>\n      <td>2023-01-20</td>\n      <td>Monthly</td>\n      <td>future</td>\n    </tr>\n    <tr>\n      <th>1</th>\n      <td>2022-01-21</td>\n      <td>Monthly</td>\n      <td>future</td>\n    </tr>\n    <tr>\n      <th>11</th>\n      <td>2021-01-08</td>\n      <td>Weekly</td>\n      <td>past</td>\n    </tr>\n    <tr>\n      <th>12</th>\n      <td>2020-12-31</td>\n      <td>Weekly</td>\n      <td>past</td>\n    </tr>\n  </tbody>\n</table>\n</div>"
     },
     "execution_count": 27,
     "metadata": {},
     "output_type": "execute_result"
    }
   ],
   "source": [
    "expirations_future = filter_future(expirations, 'expiry')\n",
    "expirations_past = filter_past(expirations, 'expiry')\n",
    "\n",
    "expirations_future['state'] = 'future'\n",
    "expirations_past['state'] = 'past'\n",
    "\n",
    "pd.concat([expirations_future[:2], expirations_past[:2]])"
   ],
   "metadata": {
    "collapsed": false,
    "pycharm": {
     "name": "#%%\n"
    }
   }
  },
  {
   "cell_type": "markdown",
   "source": [
    "#### Days until"
   ],
   "metadata": {
    "collapsed": false,
    "pycharm": {
     "name": "#%% md\n"
    }
   }
  },
  {
   "cell_type": "code",
   "execution_count": 28,
   "outputs": [
    {
     "data": {
      "text/plain": "       expiry   series  days_to_expiration\n0  2023-01-20  Monthly         -741.319209\n1  2022-01-21  Monthly         -377.319209\n2  2021-07-16  Monthly         -188.319209\n3  2021-04-16  Monthly          -97.319209\n4  2021-02-26   Weekly          -48.319209",
      "text/html": "<div>\n<style scoped>\n    .dataframe tbody tr th:only-of-type {\n        vertical-align: middle;\n    }\n\n    .dataframe tbody tr th {\n        vertical-align: top;\n    }\n\n    .dataframe thead th {\n        text-align: right;\n    }\n</style>\n<table border=\"1\" class=\"dataframe\">\n  <thead>\n    <tr style=\"text-align: right;\">\n      <th></th>\n      <th>expiry</th>\n      <th>series</th>\n      <th>days_to_expiration</th>\n    </tr>\n  </thead>\n  <tbody>\n    <tr>\n      <th>0</th>\n      <td>2023-01-20</td>\n      <td>Monthly</td>\n      <td>-741.319209</td>\n    </tr>\n    <tr>\n      <th>1</th>\n      <td>2022-01-21</td>\n      <td>Monthly</td>\n      <td>-377.319209</td>\n    </tr>\n    <tr>\n      <th>2</th>\n      <td>2021-07-16</td>\n      <td>Monthly</td>\n      <td>-188.319209</td>\n    </tr>\n    <tr>\n      <th>3</th>\n      <td>2021-04-16</td>\n      <td>Monthly</td>\n      <td>-97.319209</td>\n    </tr>\n    <tr>\n      <th>4</th>\n      <td>2021-02-26</td>\n      <td>Weekly</td>\n      <td>-48.319209</td>\n    </tr>\n  </tbody>\n</table>\n</div>"
     },
     "execution_count": 28,
     "metadata": {},
     "output_type": "execute_result"
    }
   ],
   "source": [
    "df = expirations.copy()\n",
    "df['days_to_expiration'] = days_until(df, 'expiry')\n",
    "df[:5]"
   ],
   "metadata": {
    "collapsed": false,
    "pycharm": {
     "name": "#%%\n"
    }
   }
  },
  {
   "cell_type": "markdown",
   "source": [
    "## Chain EODs"
   ],
   "metadata": {
    "collapsed": false,
    "pycharm": {
     "name": "#%% md\n"
    }
   }
  },
  {
   "cell_type": "markdown",
   "source": [
    "For a single expiration ..."
   ],
   "metadata": {
    "collapsed": false,
    "pycharm": {
     "name": "#%% md\n"
    }
   }
  },
  {
   "cell_type": "code",
   "execution_count": 29,
   "outputs": [
    {
     "data": {
      "text/plain": "'2023-01-20'"
     },
     "execution_count": 29,
     "metadata": {},
     "output_type": "execute_result"
    }
   ],
   "source": [
    "t_expiration = expirations.iloc[0]['expiry']\n",
    "t_expiration"
   ],
   "metadata": {
    "collapsed": false,
    "pycharm": {
     "name": "#%%\n"
    }
   }
  },
  {
   "cell_type": "code",
   "execution_count": 30,
   "outputs": [
    {
     "data": {
      "text/plain": "                                 expiry  type  strike  lastPrice  bidPrice  \\\nsymbol           eod_date                                                    \nBHC20Jan23C10.00 2021-01-04  2023-01-20  CALL    10.0       12.7     11.95   \n                 2021-01-05  2023-01-20  CALL    10.0       12.7     12.50   \n                 2021-01-06  2023-01-20  CALL    10.0       14.0     13.05   \n                 2021-01-07  2023-01-20  CALL    10.0       14.0     13.70   \n                 2021-01-08  2023-01-20  CALL    10.0       14.0     13.80   \n\n                             askPrice  bidSize  askSize  volume  openInterest  \\\nsymbol           eod_date                                                       \nBHC20Jan23C10.00 2021-01-04     13.15       32       31       5           557   \n                 2021-01-05     13.70       26       26       0           562   \n                 2021-01-06     14.25       98      155     100           562   \n                 2021-01-07     14.45       22       29       7           484   \n                 2021-01-08     15.20      180      158       0           482   \n\n                             impliedVolatility     delta     theta     gamma  \\\nsymbol           eod_date                                                      \nBHC20Jan23C10.00 2021-01-04          57.032130  0.917396 -0.001676  0.009337   \n                 2021-01-05          68.109520  0.917086 -0.001681  0.009374   \n                 2021-01-06          69.493099  0.922514 -0.001630  0.008747   \n                 2021-01-07          64.986591  0.929239 -0.001567  0.007942   \n                 2021-01-08          62.140894  0.934602 -0.001509  0.007318   \n\n                                 vega       rho  \nsymbol           eod_date                        \nBHC20Jan23C10.00 2021-01-04  0.046790  0.150236  \n                 2021-01-05  0.046825  0.149884  \n                 2021-01-06  0.045558  0.152399  \n                 2021-01-07  0.043898  0.155501  \n                 2021-01-08  0.042414  0.158087  ",
      "text/html": "<div>\n<style scoped>\n    .dataframe tbody tr th:only-of-type {\n        vertical-align: middle;\n    }\n\n    .dataframe tbody tr th {\n        vertical-align: top;\n    }\n\n    .dataframe thead th {\n        text-align: right;\n    }\n</style>\n<table border=\"1\" class=\"dataframe\">\n  <thead>\n    <tr style=\"text-align: right;\">\n      <th></th>\n      <th></th>\n      <th>expiry</th>\n      <th>type</th>\n      <th>strike</th>\n      <th>lastPrice</th>\n      <th>bidPrice</th>\n      <th>askPrice</th>\n      <th>bidSize</th>\n      <th>askSize</th>\n      <th>volume</th>\n      <th>openInterest</th>\n      <th>impliedVolatility</th>\n      <th>delta</th>\n      <th>theta</th>\n      <th>gamma</th>\n      <th>vega</th>\n      <th>rho</th>\n    </tr>\n    <tr>\n      <th>symbol</th>\n      <th>eod_date</th>\n      <th></th>\n      <th></th>\n      <th></th>\n      <th></th>\n      <th></th>\n      <th></th>\n      <th></th>\n      <th></th>\n      <th></th>\n      <th></th>\n      <th></th>\n      <th></th>\n      <th></th>\n      <th></th>\n      <th></th>\n      <th></th>\n    </tr>\n  </thead>\n  <tbody>\n    <tr>\n      <th rowspan=\"5\" valign=\"top\">BHC20Jan23C10.00</th>\n      <th>2021-01-04</th>\n      <td>2023-01-20</td>\n      <td>CALL</td>\n      <td>10.0</td>\n      <td>12.7</td>\n      <td>11.95</td>\n      <td>13.15</td>\n      <td>32</td>\n      <td>31</td>\n      <td>5</td>\n      <td>557</td>\n      <td>57.032130</td>\n      <td>0.917396</td>\n      <td>-0.001676</td>\n      <td>0.009337</td>\n      <td>0.046790</td>\n      <td>0.150236</td>\n    </tr>\n    <tr>\n      <th>2021-01-05</th>\n      <td>2023-01-20</td>\n      <td>CALL</td>\n      <td>10.0</td>\n      <td>12.7</td>\n      <td>12.50</td>\n      <td>13.70</td>\n      <td>26</td>\n      <td>26</td>\n      <td>0</td>\n      <td>562</td>\n      <td>68.109520</td>\n      <td>0.917086</td>\n      <td>-0.001681</td>\n      <td>0.009374</td>\n      <td>0.046825</td>\n      <td>0.149884</td>\n    </tr>\n    <tr>\n      <th>2021-01-06</th>\n      <td>2023-01-20</td>\n      <td>CALL</td>\n      <td>10.0</td>\n      <td>14.0</td>\n      <td>13.05</td>\n      <td>14.25</td>\n      <td>98</td>\n      <td>155</td>\n      <td>100</td>\n      <td>562</td>\n      <td>69.493099</td>\n      <td>0.922514</td>\n      <td>-0.001630</td>\n      <td>0.008747</td>\n      <td>0.045558</td>\n      <td>0.152399</td>\n    </tr>\n    <tr>\n      <th>2021-01-07</th>\n      <td>2023-01-20</td>\n      <td>CALL</td>\n      <td>10.0</td>\n      <td>14.0</td>\n      <td>13.70</td>\n      <td>14.45</td>\n      <td>22</td>\n      <td>29</td>\n      <td>7</td>\n      <td>484</td>\n      <td>64.986591</td>\n      <td>0.929239</td>\n      <td>-0.001567</td>\n      <td>0.007942</td>\n      <td>0.043898</td>\n      <td>0.155501</td>\n    </tr>\n    <tr>\n      <th>2021-01-08</th>\n      <td>2023-01-20</td>\n      <td>CALL</td>\n      <td>10.0</td>\n      <td>14.0</td>\n      <td>13.80</td>\n      <td>15.20</td>\n      <td>180</td>\n      <td>158</td>\n      <td>0</td>\n      <td>482</td>\n      <td>62.140894</td>\n      <td>0.934602</td>\n      <td>-0.001509</td>\n      <td>0.007318</td>\n      <td>0.042414</td>\n      <td>0.158087</td>\n    </tr>\n  </tbody>\n</table>\n</div>"
     },
     "execution_count": 30,
     "metadata": {},
     "output_type": "execute_result"
    }
   ],
   "source": [
    "eods = oeq.chain_eods(UNDERLYING_SYMBOL, t_expiration, 5)\n",
    "eods[:5]"
   ],
   "metadata": {
    "collapsed": false,
    "pycharm": {
     "name": "#%%\n"
    }
   }
  },
  {
   "cell_type": "markdown",
   "source": [
    "For multiple expirations ..."
   ],
   "metadata": {
    "collapsed": false,
    "pycharm": {
     "name": "#%% md\n"
    }
   }
  },
  {
   "cell_type": "code",
   "execution_count": 31,
   "outputs": [
    {
     "data": {
      "text/plain": "['2023-01-20', '2022-01-21', '2021-07-16']"
     },
     "execution_count": 31,
     "metadata": {},
     "output_type": "execute_result"
    }
   ],
   "source": [
    "t_expirations = list(expirations.iloc[0:3]['expiry'].unique())\n",
    "t_expirations"
   ],
   "metadata": {
    "collapsed": false,
    "pycharm": {
     "name": "#%%\n"
    }
   }
  },
  {
   "cell_type": "code",
   "execution_count": 32,
   "outputs": [
    {
     "data": {
      "text/plain": "                                 expiry  type  strike  lastPrice  bidPrice  \\\nsymbol           eod_date                                                    \nBHC20Jan23C5.00  2021-01-05  2023-01-20  CALL     5.0      16.30     16.70   \nBHC21Jan22C35.00 2021-01-04  2022-01-21  CALL    35.0       0.86      0.50   \nBHC21Jan22C25.00 2021-01-06  2022-01-21  CALL    25.0       3.40      3.10   \nBHC20Jan23P27.00 2021-01-07  2023-01-20   PUT    27.0        NaN      8.40   \nBHC21Jan22P5.00  2021-01-06  2022-01-21   PUT     5.0       0.10       NaN   \nBHC16Jul21P12.00 2021-01-08  2021-07-16   PUT    12.0       0.30       NaN   \nBHC16Jul21C21.00 2021-01-08  2021-07-16  CALL    21.0       4.64      4.05   \nBHC16Jul21C27.00 2021-01-04  2021-07-16  CALL    27.0       1.21      0.83   \nBHC16Jul21C22.00 2021-01-05  2021-07-16  CALL    22.0       2.88      2.72   \nBHC21Jan22P18.00 2021-01-05  2022-01-21   PUT    18.0       2.27      2.04   \n\n                             askPrice  bidSize  askSize  volume  openInterest  \\\nsymbol           eod_date                                                       \nBHC20Jan23C5.00  2021-01-05     17.95       25       25       0             2   \nBHC21Jan22C35.00 2021-01-04      1.37      724      616       2          1724   \nBHC21Jan22C25.00 2021-01-06      3.55      811      563    1783          5138   \nBHC20Jan23P27.00 2021-01-07      9.05       88       61       0             0   \nBHC21Jan22P5.00  2021-01-06      0.16        0      520       0           227   \nBHC16Jul21P12.00 2021-01-08      0.45        0       31       0            13   \nBHC16Jul21C21.00 2021-01-08      4.75      494      520      61          2270   \nBHC16Jul21C27.00 2021-01-04      1.12      624        6      10            23   \nBHC16Jul21C22.00 2021-01-05      2.88      463       10      88          1514   \nBHC21Jan22P18.00 2021-01-05      2.54       33      593       0           953   \n\n                             impliedVolatility     delta     theta     gamma  \\\nsymbol           eod_date                                                      \nBHC20Jan23C5.00  2021-01-05          94.879130  0.989219 -0.000319  0.001746   \nBHC21Jan22C35.00 2021-01-04          45.159543  0.266021 -0.005012  0.028098   \nBHC21Jan22C25.00 2021-01-06          49.446715  0.512914 -0.006222  0.033608   \nBHC20Jan23P27.00 2021-01-07          46.014978 -0.441599 -0.004479  0.023152   \nBHC21Jan22P5.00  2021-01-06          85.766719 -0.001292 -0.000066  0.000359   \nBHC16Jul21P12.00 2021-01-08          74.263237 -0.025438 -0.001372  0.006736   \nBHC16Jul21C21.00 2021-01-08          48.697298  0.680527 -0.008303  0.040593   \nBHC16Jul21C27.00 2021-01-04          42.167799  0.345675 -0.007910  0.044355   \nBHC16Jul21C22.00 2021-01-05          48.921116  0.550928 -0.008511  0.047744   \nBHC21Jan22P18.00 2021-01-05          47.420318 -0.275858 -0.005085  0.028661   \n\n                                 vega       rho  \nsymbol           eod_date                        \nBHC20Jan23C5.00  2021-01-05  0.008724  0.095729  \nBHC21Jan22C35.00 2021-01-04  0.072194  0.044499  \nBHC21Jan22C25.00 2021-01-06  0.089522  0.079770  \nBHC20Jan23P27.00 2021-01-07  0.127962 -0.399464  \nBHC21Jan22P5.00  2021-01-06  0.000956 -0.000349  \nBHC16Jul21P12.00 2021-01-08  0.009984 -0.003596  \nBHC16Jul21C21.00 2021-01-08  0.060166  0.058636  \nBHC16Jul21C27.00 2021-01-04  0.057726  0.031057  \nBHC16Jul21C22.00 2021-01-05  0.061704  0.046286  \nBHC21Jan22P18.00 2021-01-05  0.073316 -0.090263  ",
      "text/html": "<div>\n<style scoped>\n    .dataframe tbody tr th:only-of-type {\n        vertical-align: middle;\n    }\n\n    .dataframe tbody tr th {\n        vertical-align: top;\n    }\n\n    .dataframe thead th {\n        text-align: right;\n    }\n</style>\n<table border=\"1\" class=\"dataframe\">\n  <thead>\n    <tr style=\"text-align: right;\">\n      <th></th>\n      <th></th>\n      <th>expiry</th>\n      <th>type</th>\n      <th>strike</th>\n      <th>lastPrice</th>\n      <th>bidPrice</th>\n      <th>askPrice</th>\n      <th>bidSize</th>\n      <th>askSize</th>\n      <th>volume</th>\n      <th>openInterest</th>\n      <th>impliedVolatility</th>\n      <th>delta</th>\n      <th>theta</th>\n      <th>gamma</th>\n      <th>vega</th>\n      <th>rho</th>\n    </tr>\n    <tr>\n      <th>symbol</th>\n      <th>eod_date</th>\n      <th></th>\n      <th></th>\n      <th></th>\n      <th></th>\n      <th></th>\n      <th></th>\n      <th></th>\n      <th></th>\n      <th></th>\n      <th></th>\n      <th></th>\n      <th></th>\n      <th></th>\n      <th></th>\n      <th></th>\n      <th></th>\n    </tr>\n  </thead>\n  <tbody>\n    <tr>\n      <th>BHC20Jan23C5.00</th>\n      <th>2021-01-05</th>\n      <td>2023-01-20</td>\n      <td>CALL</td>\n      <td>5.0</td>\n      <td>16.30</td>\n      <td>16.70</td>\n      <td>17.95</td>\n      <td>25</td>\n      <td>25</td>\n      <td>0</td>\n      <td>2</td>\n      <td>94.879130</td>\n      <td>0.989219</td>\n      <td>-0.000319</td>\n      <td>0.001746</td>\n      <td>0.008724</td>\n      <td>0.095729</td>\n    </tr>\n    <tr>\n      <th>BHC21Jan22C35.00</th>\n      <th>2021-01-04</th>\n      <td>2022-01-21</td>\n      <td>CALL</td>\n      <td>35.0</td>\n      <td>0.86</td>\n      <td>0.50</td>\n      <td>1.37</td>\n      <td>724</td>\n      <td>616</td>\n      <td>2</td>\n      <td>1724</td>\n      <td>45.159543</td>\n      <td>0.266021</td>\n      <td>-0.005012</td>\n      <td>0.028098</td>\n      <td>0.072194</td>\n      <td>0.044499</td>\n    </tr>\n    <tr>\n      <th>BHC21Jan22C25.00</th>\n      <th>2021-01-06</th>\n      <td>2022-01-21</td>\n      <td>CALL</td>\n      <td>25.0</td>\n      <td>3.40</td>\n      <td>3.10</td>\n      <td>3.55</td>\n      <td>811</td>\n      <td>563</td>\n      <td>1783</td>\n      <td>5138</td>\n      <td>49.446715</td>\n      <td>0.512914</td>\n      <td>-0.006222</td>\n      <td>0.033608</td>\n      <td>0.089522</td>\n      <td>0.079770</td>\n    </tr>\n    <tr>\n      <th>BHC20Jan23P27.00</th>\n      <th>2021-01-07</th>\n      <td>2023-01-20</td>\n      <td>PUT</td>\n      <td>27.0</td>\n      <td>NaN</td>\n      <td>8.40</td>\n      <td>9.05</td>\n      <td>88</td>\n      <td>61</td>\n      <td>0</td>\n      <td>0</td>\n      <td>46.014978</td>\n      <td>-0.441599</td>\n      <td>-0.004479</td>\n      <td>0.023152</td>\n      <td>0.127962</td>\n      <td>-0.399464</td>\n    </tr>\n    <tr>\n      <th>BHC21Jan22P5.00</th>\n      <th>2021-01-06</th>\n      <td>2022-01-21</td>\n      <td>PUT</td>\n      <td>5.0</td>\n      <td>0.10</td>\n      <td>NaN</td>\n      <td>0.16</td>\n      <td>0</td>\n      <td>520</td>\n      <td>0</td>\n      <td>227</td>\n      <td>85.766719</td>\n      <td>-0.001292</td>\n      <td>-0.000066</td>\n      <td>0.000359</td>\n      <td>0.000956</td>\n      <td>-0.000349</td>\n    </tr>\n    <tr>\n      <th>BHC16Jul21P12.00</th>\n      <th>2021-01-08</th>\n      <td>2021-07-16</td>\n      <td>PUT</td>\n      <td>12.0</td>\n      <td>0.30</td>\n      <td>NaN</td>\n      <td>0.45</td>\n      <td>0</td>\n      <td>31</td>\n      <td>0</td>\n      <td>13</td>\n      <td>74.263237</td>\n      <td>-0.025438</td>\n      <td>-0.001372</td>\n      <td>0.006736</td>\n      <td>0.009984</td>\n      <td>-0.003596</td>\n    </tr>\n    <tr>\n      <th>BHC16Jul21C21.00</th>\n      <th>2021-01-08</th>\n      <td>2021-07-16</td>\n      <td>CALL</td>\n      <td>21.0</td>\n      <td>4.64</td>\n      <td>4.05</td>\n      <td>4.75</td>\n      <td>494</td>\n      <td>520</td>\n      <td>61</td>\n      <td>2270</td>\n      <td>48.697298</td>\n      <td>0.680527</td>\n      <td>-0.008303</td>\n      <td>0.040593</td>\n      <td>0.060166</td>\n      <td>0.058636</td>\n    </tr>\n    <tr>\n      <th>BHC16Jul21C27.00</th>\n      <th>2021-01-04</th>\n      <td>2021-07-16</td>\n      <td>CALL</td>\n      <td>27.0</td>\n      <td>1.21</td>\n      <td>0.83</td>\n      <td>1.12</td>\n      <td>624</td>\n      <td>6</td>\n      <td>10</td>\n      <td>23</td>\n      <td>42.167799</td>\n      <td>0.345675</td>\n      <td>-0.007910</td>\n      <td>0.044355</td>\n      <td>0.057726</td>\n      <td>0.031057</td>\n    </tr>\n    <tr>\n      <th>BHC16Jul21C22.00</th>\n      <th>2021-01-05</th>\n      <td>2021-07-16</td>\n      <td>CALL</td>\n      <td>22.0</td>\n      <td>2.88</td>\n      <td>2.72</td>\n      <td>2.88</td>\n      <td>463</td>\n      <td>10</td>\n      <td>88</td>\n      <td>1514</td>\n      <td>48.921116</td>\n      <td>0.550928</td>\n      <td>-0.008511</td>\n      <td>0.047744</td>\n      <td>0.061704</td>\n      <td>0.046286</td>\n    </tr>\n    <tr>\n      <th>BHC21Jan22P18.00</th>\n      <th>2021-01-05</th>\n      <td>2022-01-21</td>\n      <td>PUT</td>\n      <td>18.0</td>\n      <td>2.27</td>\n      <td>2.04</td>\n      <td>2.54</td>\n      <td>33</td>\n      <td>593</td>\n      <td>0</td>\n      <td>953</td>\n      <td>47.420318</td>\n      <td>-0.275858</td>\n      <td>-0.005085</td>\n      <td>0.028661</td>\n      <td>0.073316</td>\n      <td>-0.090263</td>\n    </tr>\n  </tbody>\n</table>\n</div>"
     },
     "execution_count": 32,
     "metadata": {},
     "output_type": "execute_result"
    }
   ],
   "source": [
    "eods = oeq.chain_eods(UNDERLYING_SYMBOL, t_expirations, 5)\n",
    "eods.sample(n=10)"
   ],
   "metadata": {
    "collapsed": false,
    "pycharm": {
     "name": "#%%\n"
    }
   }
  }
 ],
 "metadata": {
  "kernelspec": {
   "display_name": "Python 3",
   "language": "python",
   "name": "python3"
  },
  "language_info": {
   "codemirror_mode": {
    "name": "ipython",
    "version": 2
   },
   "file_extension": ".py",
   "mimetype": "text/x-python",
   "name": "python",
   "nbconvert_exporter": "python",
   "pygments_lexer": "ipython2",
   "version": "2.7.6"
  }
 },
 "nbformat": 4,
 "nbformat_minor": 0
}